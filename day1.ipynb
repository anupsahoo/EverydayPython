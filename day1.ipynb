{
  "nbformat": 4,
  "nbformat_minor": 0,
  "metadata": {
    "colab": {
      "provenance": [],
      "authorship_tag": "ABX9TyOtl+hs+YAtyLU53qHzs61N",
      "include_colab_link": true
    },
    "kernelspec": {
      "name": "python3",
      "display_name": "Python 3"
    },
    "language_info": {
      "name": "python"
    }
  },
  "cells": [
    {
      "cell_type": "markdown",
      "metadata": {
        "id": "view-in-github",
        "colab_type": "text"
      },
      "source": [
        "<a href=\"https://colab.research.google.com/github/anupsahoo/EverydayPython/blob/main/day1.ipynb\" target=\"_parent\"><img src=\"https://colab.research.google.com/assets/colab-badge.svg\" alt=\"Open In Colab\"/></a>"
      ]
    },
    {
      "cell_type": "markdown",
      "source": [
        "**Syntax and Semantics in Python**\n",
        "\n",
        "1. Single line Comments and multiline comments\n",
        "2. Definition of Syntax and Semantics\n",
        "3. Basic Syntax Rules in Python\n",
        "4. Understanding Semantics in Python\n",
        "5. Common Syntax Errors and How to Avoid Them\n",
        "6. Practical Code Examples\n",
        "\n",
        "Syntax refers to the set of rules that defines the combinations of symbols that are considered to be correctly structured programs in a language. In simpler terms, syntax is about the correct arrangement of words and symbols in a code.\n",
        "\n",
        "Semantics refers to the meaning or the interpretation of the symbols, characters, and commands in a language. It is about what the code is supposed to do when it runs."
      ],
      "metadata": {
        "id": "KWkKkOakNbWm"
      }
    },
    {
      "cell_type": "code",
      "source": [
        "## Basic Syntax Rules In Python\n",
        "## Case sensitivity- Python is case sensitive\n",
        "\n",
        "name=\"anup\"\n",
        "Name=\"sahoo\"\n",
        "\n",
        "print(name)\n",
        "print(Name)"
      ],
      "metadata": {
        "colab": {
          "base_uri": "https://localhost:8080/"
        },
        "id": "h0g31jBqNwB3",
        "outputId": "0510c7f6-0142-49ef-daef-26e328d9be5d"
      },
      "execution_count": 1,
      "outputs": [
        {
          "output_type": "stream",
          "name": "stdout",
          "text": [
            "anup\n",
            "sahoo\n"
          ]
        }
      ]
    },
    {
      "cell_type": "markdown",
      "source": [
        "**Indentation**\n",
        "\n",
        "Indentation in Python is used to define the structure and hierarchy of the code. Unlike many other programming languages that use braces {} to delimit blocks of code, Python uses indentation to determine the grouping of statements. This means that all the statements within a block must be indented at the same level."
      ],
      "metadata": {
        "id": "5AwWcgL3N5fS"
      }
    },
    {
      "cell_type": "code",
      "source": [
        "## Indentation\n",
        "## Python uses indentation to define blocks of code. Consistent use of spaces (commonly 4) or a tab is required.\n",
        "\n",
        "age=35\n",
        "if age>32:\n",
        "\n",
        "    print(age)\n",
        "\n",
        "print(age)"
      ],
      "metadata": {
        "colab": {
          "base_uri": "https://localhost:8080/"
        },
        "id": "BDwmAGRhN8AK",
        "outputId": "d21173e4-45a4-4d41-bc3a-8560ad973c6d"
      },
      "execution_count": 2,
      "outputs": [
        {
          "output_type": "stream",
          "name": "stdout",
          "text": [
            "35\n",
            "35\n"
          ]
        }
      ]
    },
    {
      "cell_type": "code",
      "source": [
        "## This is a single line comment\n",
        "print(\"Hello World!\")"
      ],
      "metadata": {
        "colab": {
          "base_uri": "https://localhost:8080/"
        },
        "id": "mhdL5spWODFS",
        "outputId": "55a21501-b965-42b7-c705-567e55f718b1"
      },
      "execution_count": 3,
      "outputs": [
        {
          "output_type": "stream",
          "name": "stdout",
          "text": [
            "Hello World!\n"
          ]
        }
      ]
    },
    {
      "cell_type": "code",
      "source": [
        "## Line Continuation\n",
        "##Use a backslash (\\) to continue a statement to the next line\n",
        "\n",
        "total=1+2+34+4+5+6+7+\\\n",
        "4+5+6\n",
        "\n",
        "print(total)"
      ],
      "metadata": {
        "colab": {
          "base_uri": "https://localhost:8080/"
        },
        "id": "tTPNHyW-OF2O",
        "outputId": "7105572e-0655-4873-c647-5dece5907546"
      },
      "execution_count": 4,
      "outputs": [
        {
          "output_type": "stream",
          "name": "stdout",
          "text": [
            "74\n"
          ]
        }
      ]
    },
    {
      "cell_type": "code",
      "source": [
        "## Multiple Statements on a single line\n",
        "x=50;y=10;z=x+y\n",
        "print(z)"
      ],
      "metadata": {
        "colab": {
          "base_uri": "https://localhost:8080/"
        },
        "id": "WsvrW1JYOJdp",
        "outputId": "8b4f5fb1-0f96-4ea1-a3be-a6db9858b92c"
      },
      "execution_count": 5,
      "outputs": [
        {
          "output_type": "stream",
          "name": "stdout",
          "text": [
            "60\n"
          ]
        }
      ]
    },
    {
      "cell_type": "code",
      "source": [
        "##Understand  Semnatics In Python\n",
        "# variable assignment\n",
        "age=32 ##age is an integer\n",
        "name=\"Anup\" ##name is a string"
      ],
      "metadata": {
        "id": "euVbVlqPOMKl"
      },
      "execution_count": 6,
      "outputs": []
    },
    {
      "cell_type": "code",
      "source": [
        "type(age)\n"
      ],
      "metadata": {
        "colab": {
          "base_uri": "https://localhost:8080/"
        },
        "id": "xMT2yKQjOQwD",
        "outputId": "afd418ea-7bb2-4922-f259-c913c7253dc1"
      },
      "execution_count": 7,
      "outputs": [
        {
          "output_type": "execute_result",
          "data": {
            "text/plain": [
              "int"
            ]
          },
          "metadata": {},
          "execution_count": 7
        }
      ]
    },
    {
      "cell_type": "code",
      "source": [
        "type(name)\n"
      ],
      "metadata": {
        "colab": {
          "base_uri": "https://localhost:8080/"
        },
        "id": "G0zzGwW7OSwG",
        "outputId": "8aa90342-4802-4168-93ce-9506afa516e5"
      },
      "execution_count": 8,
      "outputs": [
        {
          "output_type": "execute_result",
          "data": {
            "text/plain": [
              "str"
            ]
          },
          "metadata": {},
          "execution_count": 8
        }
      ]
    },
    {
      "cell_type": "code",
      "source": [
        "## Type Inference\n",
        "variable=101\n",
        "print(type(variable))\n",
        "variable=\"Anup\"\n",
        "print(type(variable))"
      ],
      "metadata": {
        "colab": {
          "base_uri": "https://localhost:8080/"
        },
        "id": "u-ORXYzDOVBA",
        "outputId": "a3f057be-0919-4469-9401-788db4911159"
      },
      "execution_count": 9,
      "outputs": [
        {
          "output_type": "stream",
          "name": "stdout",
          "text": [
            "<class 'int'>\n",
            "<class 'str'>\n"
          ]
        }
      ]
    },
    {
      "cell_type": "code",
      "source": [
        "## Name Error\n",
        "a=b"
      ],
      "metadata": {
        "colab": {
          "base_uri": "https://localhost:8080/",
          "height": 159
        },
        "id": "bWIxzWr7OXEV",
        "outputId": "ecb604ea-3338-40a5-9e0b-84cb046c0bd1"
      },
      "execution_count": 10,
      "outputs": [
        {
          "output_type": "error",
          "ename": "NameError",
          "evalue": "name 'b' is not defined",
          "traceback": [
            "\u001b[0;31m---------------------------------------------------------------------------\u001b[0m",
            "\u001b[0;31mNameError\u001b[0m                                 Traceback (most recent call last)",
            "\u001b[0;32m<ipython-input-10-ee3684fc6642>\u001b[0m in \u001b[0;36m<cell line: 0>\u001b[0;34m()\u001b[0m\n\u001b[1;32m      1\u001b[0m \u001b[0;31m## Name Error\u001b[0m\u001b[0;34m\u001b[0m\u001b[0;34m\u001b[0m\u001b[0m\n\u001b[0;32m----> 2\u001b[0;31m \u001b[0ma\u001b[0m\u001b[0;34m=\u001b[0m\u001b[0mb\u001b[0m\u001b[0;34m\u001b[0m\u001b[0;34m\u001b[0m\u001b[0m\n\u001b[0m",
            "\u001b[0;31mNameError\u001b[0m: name 'b' is not defined"
          ]
        }
      ]
    },
    {
      "cell_type": "code",
      "source": [
        "## Code exmaples of indentation\n",
        "if True:\n",
        "    print(\"Correct Indentation\")\n",
        "    if False:\n",
        "        print(\"This ont print\")\n",
        "    print(\"This will print\")\n",
        "print(\"Outside the if block\")"
      ],
      "metadata": {
        "colab": {
          "base_uri": "https://localhost:8080/"
        },
        "id": "lfFacE8yOb1l",
        "outputId": "c43f10a1-06f5-422d-b0b1-257d909c971a"
      },
      "execution_count": 11,
      "outputs": [
        {
          "output_type": "stream",
          "name": "stdout",
          "text": [
            "Correct Indentation\n",
            "This will print\n",
            "Outside the if block\n"
          ]
        }
      ]
    },
    {
      "cell_type": "markdown",
      "source": [
        "\n",
        "**Conclusion:**\n",
        "\n",
        "Understanding the syntax and semantics of Python is crucial for writing correct and meaningful programs. Syntax ensures the code is properly structured, while semantics ensures the code behaves as expected. Mastering these concepts will help in writing efficient and error-free Python code."
      ],
      "metadata": {
        "id": "MdhZVnSJOeai"
      }
    }
  ]
}